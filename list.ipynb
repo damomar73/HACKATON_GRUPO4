{
 "cells": [
  {
   "cell_type": "code",
   "execution_count": 3,
   "metadata": {},
   "outputs": [],
   "source": [
    "event = {}\n",
    "event['data']={\n",
    "  \"insertId\": \"63e6749b000babf266ce01ac\",\n",
    "  \"jsonPayload\": {\n",
    "    \"requestId\": 1.0333453383246813e+38,\n",
    "    \"challenges\": [\n",
    "      {\n",
    "        \"challengePayload\": \"[75,25,29,59,86,67,55,23,31,33,47,37, 2,96,73,48,81,23,21,98,60, 1,96,16, 21,90,71,68,94,64, 0,68,87,98,72,93,36,94,86,79,49, 6,35,72,62,53,97,52, 35,67]\",\n",
    "        \"challengeType\": \"array\",\n",
    "        \"challengeId\": 1.1510148401707811e+37\n",
    "      }\n",
    "    ],\n",
    "    \"timeOfPublish\": 1676047514.934654\n",
    "  },\n",
    "  \"resource\": {\n",
    "    \"type\": \"cloud_function\",\n",
    "    \"labels\": {\n",
    "      \"project_id\": \"edem-363212\",\n",
    "      \"function_name\": \"function-team4\",\n",
    "      \"region\": \"europe-west1\"\n",
    "    }\n",
    "  },\n",
    "  \"timestamp\": \"2023-02-10T16:45:15.764914Z\",\n",
    "  \"labels\": {\n",
    "    \"instance_id\": \"00c61b117cbd4e77efe606f17bc1d2223e8e87c5eda0f7fb07a81d2afd29b63adc277360138445b2820cabece4ee931866799a269596da292569\",\n",
    "    \"execution_id\": \"u26ip8tql12a\"\n",
    "  },\n",
    "  \"logName\": \"projects/edem-363212/logs/cloudfunctions.googleapis.com%2Fcloud-functions\",\n",
    "  \"trace\": \"projects/edem-363212/traces/9167762add9e8d85c1ec185c76bc9040\",\n",
    "  \"receiveTimestamp\": \"2023-02-10T16:45:16.007962790Z\"\n",
    "}"
   ]
  },
  {
   "cell_type": "code",
   "execution_count": 17,
   "metadata": {},
   "outputs": [
    {
     "name": "stdout",
     "output_type": "stream",
     "text": [
      "[0, 1, 2, 6, 16, 21, 21, 23, 23, 25, 29, 31, 33, 35, 35, 36, 37, 47, 48, 49, 52, 53, 55, 59, 60, 62, 64, 67, 67, 68, 68, 71, 72, 72, 73, 75, 79, 81, 86, 86, 87, 90, 93, 94, 94, 96, 96, 97, 98, 98]\n",
      "0.0\n",
      "{'requestId': 1.0333453383246813e+38, 'timeOfReception': 1676053971.474291, 'team': 'team4all', 'responses': [{'challengeId': 1.1510148401707811e+37, 'challegePayload': '[75,25,29,59,86,67,55,23,31,33,47,37, 2,96,73,48,81,23,21,98,60, 1,96,16, 21,90,71,68,94,64, 0,68,87,98,72,93,36,94,86,79,49, 6,35,72,62,53,97,52, 35,67]', 'challengeType': <class 'str'>, 'payload': [0, 1, 2, 6, 16, 21, 21, 23, 23, 25, 29, 31, 33, 35, 35, 36, 37, 47, 48, 49, 52, 53, 55, 59, 60, 62, 64, 67, 67, 68, 68, 71, 72, 72, 73, 75, 79, 81, 86, 86, 87, 90, 93, 94, 94, 96, 96, 97, 98, 98], 'timeStart': 1676053971.474291, 'timeEnd': 1676053971.474291}]}\n"
     ]
    }
   ],
   "source": [
    "import base64\n",
    "import time\n",
    "import json\n",
    "        \n",
    "        \n",
    "def array_order(event, context):\n",
    "    inicio = time.time()\n",
    "\n",
    "    #pubsub_message = base64.b64decode(event['data']).decode('utf-8')\n",
    "    #array = json.loads(pubsub_message[\"jsonPayload\"][\"challenges\"][0][\"challengePayload\"])\n",
    "    \n",
    "    #para poder ejecutar en colab:\n",
    "    array = json.loads(event['data'][\"jsonPayload\"][\"challenges\"][0][\"challengePayload\"])\n",
    "\n",
    "    for i in range(len(array)):\n",
    "        for j in range(i+1, len(array)):\n",
    "            if array[i] > array[j]:\n",
    "                array[i], array[j] = array[j], array[i]\n",
    "\n",
    "    print(array)\n",
    "    fin = time.time()\n",
    "    print(fin-inicio) \n",
    "    \n",
    "    pubsub_message2 = {\"requestId\": event['data'][\"jsonPayload\"][\"requestId\"],\n",
    "                \"timeOfReception\": inicio, \n",
    "                \"team\": \"team4all\",\n",
    "                \"responses\":[\n",
    "                {\n",
    "                \"challengeId\": event['data'][\"jsonPayload\"][\"challenges\"][0][\"challengeId\"],\n",
    "                \"challegePayload\": event['data'][\"jsonPayload\"][\"challenges\"][0][\"challengePayload\"],\n",
    "                \"challengeType\": type(event['data'][\"jsonPayload\"][\"challenges\"][0][\"challengePayload\"]),\n",
    "                \"payload\": array, \n",
    "                \"timeStart\": inicio, \n",
    "                \"timeEnd\": fin\n",
    "                }\n",
    "                ]\n",
    "                }\n",
    "def publishMessages(self, message):\n",
    "    json_str = json.dumps(message)\n",
    "    topic_path = self.publisher.topic_path(self.project_id, self.topic_name)\n",
    "    publish_future = self.publisher.publish(topic_path, json_str.encode(\"utf-8\"))\n",
    "    \n",
    "\n",
    "    #print(pubsub_message2)\n",
    "    \n",
    "\n",
    "publishMessages(self, message= pubsub_message2)\n"
   ]
  },
  {
   "cell_type": "code",
   "execution_count": null,
   "metadata": {},
   "outputs": [],
   "source": [
    "from google.cloud import pubsub_v1\n",
    "\n",
    "project_id = \"your-project-id\"\n",
    "topic_id = \"test-topic\"\n",
    "\n",
    "publisher = pubsub_v1.PublisherClient()\n",
    "topic_path = publisher.topic_path(project_id, topic_id)\n",
    "\n",
    "# The message must be a bytestring.\n",
    "message1 = b\"Hello\"\n",
    "\n",
    "_message2 = \"World!\"\n",
    "message2 = _message2.encode(\"utf-8\")\n",
    "\n",
    "# When you publish a message, the client returns a future.\n",
    "future1 = publisher.publish(topic_path, message1)\n",
    "print(future1.result())\n",
    "# 3831040081518609\n",
    "\n",
    "future2 = publisher.publish(topic_path, message2)\n",
    "print(future2.result())"
   ]
  },
  {
   "cell_type": "code",
   "execution_count": 12,
   "metadata": {},
   "outputs": [
    {
     "ename": "NameError",
     "evalue": "name 'inicio' is not defined",
     "output_type": "error",
     "traceback": [
      "\u001b[1;31m---------------------------------------------------------------------------\u001b[0m",
      "\u001b[1;31mNameError\u001b[0m                                 Traceback (most recent call last)",
      "Cell \u001b[1;32mIn [12], line 16\u001b[0m\n\u001b[0;32m      1\u001b[0m \u001b[39mdef\u001b[39;00m \u001b[39mpublish\u001b[39m():\n\u001b[0;32m      2\u001b[0m         pubsub_message2 \u001b[39m=\u001b[39m {\u001b[39m\"\u001b[39m\u001b[39mrequestId\u001b[39m\u001b[39m\"\u001b[39m: event[\u001b[39m'\u001b[39m\u001b[39mdata\u001b[39m\u001b[39m'\u001b[39m][\u001b[39m\"\u001b[39m\u001b[39mjsonPayload\u001b[39m\u001b[39m\"\u001b[39m][\u001b[39m\"\u001b[39m\u001b[39mrequestId\u001b[39m\u001b[39m\"\u001b[39m],\n\u001b[0;32m      3\u001b[0m                 \u001b[39m\"\u001b[39m\u001b[39mtimeOfReception\u001b[39m\u001b[39m\"\u001b[39m: inicio, \n\u001b[0;32m      4\u001b[0m                 \u001b[39m\"\u001b[39m\u001b[39mteam\u001b[39m\u001b[39m\"\u001b[39m: \u001b[39m\"\u001b[39m\u001b[39mteam4all\u001b[39m\u001b[39m\"\u001b[39m,\n\u001b[1;32m   (...)\u001b[0m\n\u001b[0;32m     14\u001b[0m                 ]\n\u001b[0;32m     15\u001b[0m                 }\n\u001b[1;32m---> 16\u001b[0m publish()\n",
      "Cell \u001b[1;32mIn [12], line 3\u001b[0m, in \u001b[0;36mpublish\u001b[1;34m()\u001b[0m\n\u001b[0;32m      1\u001b[0m \u001b[39mdef\u001b[39;00m \u001b[39mpublish\u001b[39m():\n\u001b[0;32m      2\u001b[0m         pubsub_message2 \u001b[39m=\u001b[39m {\u001b[39m\"\u001b[39m\u001b[39mrequestId\u001b[39m\u001b[39m\"\u001b[39m: event[\u001b[39m'\u001b[39m\u001b[39mdata\u001b[39m\u001b[39m'\u001b[39m][\u001b[39m\"\u001b[39m\u001b[39mjsonPayload\u001b[39m\u001b[39m\"\u001b[39m][\u001b[39m\"\u001b[39m\u001b[39mrequestId\u001b[39m\u001b[39m\"\u001b[39m],\n\u001b[1;32m----> 3\u001b[0m                 \u001b[39m\"\u001b[39m\u001b[39mtimeOfReception\u001b[39m\u001b[39m\"\u001b[39m: inicio, \n\u001b[0;32m      4\u001b[0m                 \u001b[39m\"\u001b[39m\u001b[39mteam\u001b[39m\u001b[39m\"\u001b[39m: \u001b[39m\"\u001b[39m\u001b[39mteam4all\u001b[39m\u001b[39m\"\u001b[39m,\n\u001b[0;32m      5\u001b[0m                 \u001b[39m\"\u001b[39m\u001b[39mresponses\u001b[39m\u001b[39m\"\u001b[39m:[\n\u001b[0;32m      6\u001b[0m                 {\n\u001b[0;32m      7\u001b[0m                 \u001b[39m\"\u001b[39m\u001b[39mchallengeId\u001b[39m\u001b[39m\"\u001b[39m: event[\u001b[39m'\u001b[39m\u001b[39mdata\u001b[39m\u001b[39m'\u001b[39m][\u001b[39m\"\u001b[39m\u001b[39mjsonPayload\u001b[39m\u001b[39m\"\u001b[39m][\u001b[39m\"\u001b[39m\u001b[39mchallenges\u001b[39m\u001b[39m\"\u001b[39m][\u001b[39m0\u001b[39m][\u001b[39m\"\u001b[39m\u001b[39mchallengeId\u001b[39m\u001b[39m\"\u001b[39m],\n\u001b[0;32m      8\u001b[0m                 \u001b[39m\"\u001b[39m\u001b[39mchallegePayload\u001b[39m\u001b[39m\"\u001b[39m: event[\u001b[39m'\u001b[39m\u001b[39mdata\u001b[39m\u001b[39m'\u001b[39m][\u001b[39m\"\u001b[39m\u001b[39mjsonPayload\u001b[39m\u001b[39m\"\u001b[39m][\u001b[39m\"\u001b[39m\u001b[39mchallenges\u001b[39m\u001b[39m\"\u001b[39m][\u001b[39m0\u001b[39m][\u001b[39m\"\u001b[39m\u001b[39mchallengePayload\u001b[39m\u001b[39m\"\u001b[39m],\n\u001b[0;32m      9\u001b[0m                 \u001b[39m\"\u001b[39m\u001b[39mchallengeType\u001b[39m\u001b[39m\"\u001b[39m: \u001b[39mtype\u001b[39m(event[\u001b[39m'\u001b[39m\u001b[39mdata\u001b[39m\u001b[39m'\u001b[39m][\u001b[39m\"\u001b[39m\u001b[39mjsonPayload\u001b[39m\u001b[39m\"\u001b[39m][\u001b[39m\"\u001b[39m\u001b[39mchallenges\u001b[39m\u001b[39m\"\u001b[39m][\u001b[39m0\u001b[39m][\u001b[39m\"\u001b[39m\u001b[39mchallengePayload\u001b[39m\u001b[39m\"\u001b[39m]),\n\u001b[0;32m     10\u001b[0m                 \u001b[39m\"\u001b[39m\u001b[39mpayload\u001b[39m\u001b[39m\"\u001b[39m: array, \n\u001b[0;32m     11\u001b[0m                 \u001b[39m\"\u001b[39m\u001b[39mtimeStart\u001b[39m\u001b[39m\"\u001b[39m: inicio, \n\u001b[0;32m     12\u001b[0m                 \u001b[39m\"\u001b[39m\u001b[39mtimeEnd\u001b[39m\u001b[39m\"\u001b[39m: fin\n\u001b[0;32m     13\u001b[0m                 }\n\u001b[0;32m     14\u001b[0m                 ]\n\u001b[0;32m     15\u001b[0m                 }\n",
      "\u001b[1;31mNameError\u001b[0m: name 'inicio' is not defined"
     ]
    }
   ],
   "source": [
    "def publish():\n",
    "        pubsub_message2 = {\"requestId\": event['data'][\"jsonPayload\"][\"requestId\"],\n",
    "                \"timeOfReception\": inicio, \n",
    "                \"team\": \"team4all\",\n",
    "                \"responses\":[\n",
    "                {\n",
    "                \"challengeId\": event['data'][\"jsonPayload\"][\"challenges\"][0][\"challengeId\"],\n",
    "                \"challegePayload\": event['data'][\"jsonPayload\"][\"challenges\"][0][\"challengePayload\"],\n",
    "                \"challengeType\": type(event['data'][\"jsonPayload\"][\"challenges\"][0][\"challengePayload\"]),\n",
    "                \"payload\": array, \n",
    "                \"timeStart\": inicio, \n",
    "                \"timeEnd\": fin\n",
    "                }\n",
    "                ]\n",
    "                }\n",
    "publish()"
   ]
  }
 ],
 "metadata": {
  "kernelspec": {
   "display_name": "Python 3",
   "language": "python",
   "name": "python3"
  },
  "language_info": {
   "codemirror_mode": {
    "name": "ipython",
    "version": 3
   },
   "file_extension": ".py",
   "mimetype": "text/x-python",
   "name": "python",
   "nbconvert_exporter": "python",
   "pygments_lexer": "ipython3",
   "version": "3.10.2"
  },
  "orig_nbformat": 4,
  "vscode": {
   "interpreter": {
    "hash": "7e1998ff7f8aa20ada591c520b972326324e5ea05489af9e422744c7c09f6dad"
   }
  }
 },
 "nbformat": 4,
 "nbformat_minor": 2
}
