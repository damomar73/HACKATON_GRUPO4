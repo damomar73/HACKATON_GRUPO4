{
 "cells": [
  {
   "cell_type": "code",
   "execution_count": 2,
   "metadata": {},
   "outputs": [
    {
     "ename": "SyntaxError",
     "evalue": "closing parenthesis ']' does not match opening parenthesis '(' (3338500462.py, line 2)",
     "output_type": "error",
     "traceback": [
      "\u001b[0;36m  Cell \u001b[0;32mIn[2], line 2\u001b[0;36m\u001b[0m\n\u001b[0;31m    print(list.strip(']['])\u001b[0m\n\u001b[0m                         ^\u001b[0m\n\u001b[0;31mSyntaxError\u001b[0m\u001b[0;31m:\u001b[0m closing parenthesis ']' does not match opening parenthesis '('\n"
     ]
    }
   ],
   "source": [
    "{\n",
    "  \"insertId\": \"63e6749b000babf266ce01ac\",\n",
    "  \"jsonPayload\": {\n",
    "    \"requestId\": 1.0333453383246813e+38,\n",
    "    \"challenges\": [\n",
    "      {\n",
    "        \"challengePayload\": \"[75,25,29,59,86,67,55,23,31,33,47,37, 2,96,73,48,81,23,21,98,60, 1,96,16, 21,90,71,68,94,64, 0,68,87,98,72,93,36,94,86,79,49, 6,35,72,62,53,97,52, 35,67]\",\n",
    "        \"challengeType\": \"array\",\n",
    "        \"challengeId\": 1.1510148401707811e+37\n",
    "      }\n",
    "    ],\n",
    "    \"timeOfPublish\": 1676047514.934654\n",
    "  },\n",
    "  \"resource\": {\n",
    "    \"type\": \"cloud_function\",\n",
    "    \"labels\": {\n",
    "      \"project_id\": \"edem-363212\",\n",
    "      \"function_name\": \"function-team4\",\n",
    "      \"region\": \"europe-west1\"\n",
    "    }\n",
    "  },\n",
    "  \"timestamp\": \"2023-02-10T16:45:15.764914Z\",\n",
    "  \"labels\": {\n",
    "    \"instance_id\": \"00c61b117cbd4e77efe606f17bc1d2223e8e87c5eda0f7fb07a81d2afd29b63adc277360138445b2820cabece4ee931866799a269596da292569\",\n",
    "    \"execution_id\": \"u26ip8tql12a\"\n",
    "  },\n",
    "  \"logName\": \"projects/edem-363212/logs/cloudfunctions.googleapis.com%2Fcloud-functions\",\n",
    "  \"trace\": \"projects/edem-363212/traces/9167762add9e8d85c1ec185c76bc9040\",\n",
    "  \"receiveTimestamp\": \"2023-02-10T16:45:16.007962790Z\"\n",
    "}"
   ]
  }
 ],
 "metadata": {
  "kernelspec": {
   "display_name": "Python 3",
   "language": "python",
   "name": "python3"
  },
  "language_info": {
   "codemirror_mode": {
    "name": "ipython",
    "version": 3
   },
   "file_extension": ".py",
   "mimetype": "text/x-python",
   "name": "python",
   "nbconvert_exporter": "python",
   "pygments_lexer": "ipython3",
   "version": "3.10.2"
  },
  "orig_nbformat": 4,
  "vscode": {
   "interpreter": {
    "hash": "7e1998ff7f8aa20ada591c520b972326324e5ea05489af9e422744c7c09f6dad"
   }
  }
 },
 "nbformat": 4,
 "nbformat_minor": 2
}
