{
 "cells": [
  {
   "cell_type": "code",
   "execution_count": 2,
   "metadata": {},
   "outputs": [],
   "source": [
    "event = {}\n",
    "event['data']={\n",
    "  \"insertId\": \"63e6749b000babf266ce01ac\",\n",
    "  \"jsonPayload\": {\n",
    "    \"requestId\": 1.0333453383246813e+38,\n",
    "    \"challenges\": [\n",
    "      {\n",
    "        \"challengePayload\": \"[75,25,29,59,86,67,55,23,31,33,47,37, 2,96,73,48,81,23,21,98,60, 1,96,16, 21,90,71,68,94,64, 0,68,87,98,72,93,36,94,86,79,49, 6,35,72,62,53,97,52, 35,67]\",\n",
    "        \"challengeType\": \"array\",\n",
    "        \"challengeId\": 1.1510148401707811e+37\n",
    "      }\n",
    "    ],\n",
    "    \"timeOfPublish\": 1676047514.934654\n",
    "  },\n",
    "  \"resource\": {\n",
    "    \"type\": \"cloud_function\",\n",
    "    \"labels\": {\n",
    "      \"project_id\": \"edem-363212\",\n",
    "      \"function_name\": \"function-team4\",\n",
    "      \"region\": \"europe-west1\"\n",
    "    }\n",
    "  },\n",
    "  \"timestamp\": \"2023-02-10T16:45:15.764914Z\",\n",
    "  \"labels\": {\n",
    "    \"instance_id\": \"00c61b117cbd4e77efe606f17bc1d2223e8e87c5eda0f7fb07a81d2afd29b63adc277360138445b2820cabece4ee931866799a269596da292569\",\n",
    "    \"execution_id\": \"u26ip8tql12a\"\n",
    "  },\n",
    "  \"logName\": \"projects/edem-363212/logs/cloudfunctions.googleapis.com%2Fcloud-functions\",\n",
    "  \"trace\": \"projects/edem-363212/traces/9167762add9e8d85c1ec185c76bc9040\",\n",
    "  \"receiveTimestamp\": \"2023-02-10T16:45:16.007962790Z\"\n",
    "}"
   ]
  },
  {
   "cell_type": "code",
   "execution_count": 7,
   "metadata": {},
   "outputs": [],
   "source": [
    "import base64\n",
    "import time\n",
    "import json\n",
    "\n",
    "def array_order(event, context):\n",
    "\n",
    "    inicio = time.time()\n",
    "\n",
    "    pubsub_message = base64.b64decode(event['data']).decode('utf-8')\n",
    "\n",
    "    array = json.loads(pubsub_message[\"jsonPayload\"][\"challenges\"][0][\"challengePayload\"])\n",
    "\n",
    "    array_ordenado = sorted(array)\n",
    "\n",
    "    print(array_ordenado)\n",
    "\n",
    "    fin = time.time()\n",
    "    print(fin-inicio) \n",
    "\n"
   ]
  },
  {
   "cell_type": "code",
   "execution_count": 6,
   "metadata": {},
   "outputs": [
    {
     "ename": "NameError",
     "evalue": "name 'pubsub_message' is not defined",
     "output_type": "error",
     "traceback": [
      "\u001b[1;31m---------------------------------------------------------------------------\u001b[0m",
      "\u001b[1;31mNameError\u001b[0m                                 Traceback (most recent call last)",
      "Cell \u001b[1;32mIn[6], line 1\u001b[0m\n\u001b[1;32m----> 1\u001b[0m pubsub_message2 \u001b[39m=\u001b[39m {\u001b[39m\"\u001b[39m\u001b[39mrequestId\u001b[39m\u001b[39m\"\u001b[39m: pubsub_message[\u001b[39m\"\u001b[39m\u001b[39mjsonPayload\u001b[39m\u001b[39m\"\u001b[39m][\u001b[39m\"\u001b[39m\u001b[39mrequestId\u001b[39m\u001b[39m\"\u001b[39m],\n\u001b[0;32m      2\u001b[0m         \u001b[39m\"\u001b[39m\u001b[39mtimeOfReception\u001b[39m\u001b[39m\"\u001b[39m: inicio, \n\u001b[0;32m      3\u001b[0m         \u001b[39m\"\u001b[39m\u001b[39mteam\u001b[39m\u001b[39m\"\u001b[39m: \u001b[39m\"\u001b[39m\u001b[39mteam4all\u001b[39m\u001b[39m\"\u001b[39m,\n\u001b[0;32m      4\u001b[0m         \u001b[39m\"\u001b[39m\u001b[39mresponses\u001b[39m\u001b[39m\"\u001b[39m:[\n\u001b[0;32m      5\u001b[0m         {\n\u001b[0;32m      6\u001b[0m         \u001b[39m\"\u001b[39m\u001b[39mchallengeId\u001b[39m\u001b[39m\"\u001b[39m: pubsub_message[\u001b[39m\"\u001b[39m\u001b[39mjsonPayload\u001b[39m\u001b[39m\"\u001b[39m][\u001b[39m\"\u001b[39m\u001b[39mchallenges\u001b[39m\u001b[39m\"\u001b[39m][\u001b[39m0\u001b[39m][\u001b[39m\"\u001b[39m\u001b[39mchallengeId\u001b[39m\u001b[39m\"\u001b[39m],\n\u001b[0;32m      7\u001b[0m         \u001b[39m\"\u001b[39m\u001b[39mchallegePayload\u001b[39m\u001b[39m\"\u001b[39m: pubsub_message[\u001b[39m\"\u001b[39m\u001b[39mjsonPayload\u001b[39m\u001b[39m\"\u001b[39m][\u001b[39m\"\u001b[39m\u001b[39mchallenges\u001b[39m\u001b[39m\"\u001b[39m][\u001b[39m0\u001b[39m][\u001b[39m\"\u001b[39m\u001b[39mchallengePayload\u001b[39m\u001b[39m\"\u001b[39m],\n\u001b[0;32m      8\u001b[0m         \u001b[39m\"\u001b[39m\u001b[39mchallengeType\u001b[39m\u001b[39m\"\u001b[39m: \u001b[39mtype\u001b[39m(pubsub_message[\u001b[39m\"\u001b[39m\u001b[39mjsonPayload\u001b[39m\u001b[39m\"\u001b[39m][\u001b[39m\"\u001b[39m\u001b[39mchallenges\u001b[39m\u001b[39m\"\u001b[39m][\u001b[39m0\u001b[39m][\u001b[39m\"\u001b[39m\u001b[39mchallengePayload\u001b[39m\u001b[39m\"\u001b[39m]),\n\u001b[0;32m      9\u001b[0m         \u001b[39m\"\u001b[39m\u001b[39mpayload\u001b[39m\u001b[39m\"\u001b[39m: array_ordenado, \n\u001b[0;32m     10\u001b[0m         \u001b[39m\"\u001b[39m\u001b[39mtimeStart\u001b[39m\u001b[39m\"\u001b[39m: inicio, \n\u001b[0;32m     11\u001b[0m         \u001b[39m\"\u001b[39m\u001b[39mtimeEnd\u001b[39m\u001b[39m\"\u001b[39m: fin\n\u001b[0;32m     12\u001b[0m         }\n\u001b[0;32m     13\u001b[0m         ]\n\u001b[0;32m     14\u001b[0m         }\n",
      "\u001b[1;31mNameError\u001b[0m: name 'pubsub_message' is not defined"
     ]
    }
   ],
   "source": [
    "def publish():\n",
    "        pubsub_message2 = {\"requestId\": pubsub_message[\"jsonPayload\"][\"requestId\"],\n",
    "                \"timeOfReception\": inicio, \n",
    "                \"team\": \"team4all\",\n",
    "                \"responses\":[\n",
    "                {\n",
    "                \"challengeId\": pubsub_message[\"jsonPayload\"][\"challenges\"][0][\"challengeId\"],\n",
    "                \"challegePayload\": pubsub_message[\"jsonPayload\"][\"challenges\"][0][\"challengePayload\"],\n",
    "                \"challengeType\": type(pubsub_message[\"jsonPayload\"][\"challenges\"][0][\"challengePayload\"]),\n",
    "                \"payload\": array_ordenado, \n",
    "                \"timeStart\": inicio, \n",
    "                \"timeEnd\": fin\n",
    "                }\n",
    "                ]\n",
    "                }\n"
   ]
  }
 ],
 "metadata": {
  "kernelspec": {
   "display_name": "Python 3",
   "language": "python",
   "name": "python3"
  },
  "language_info": {
   "codemirror_mode": {
    "name": "ipython",
    "version": 3
   },
   "file_extension": ".py",
   "mimetype": "text/x-python",
   "name": "python",
   "nbconvert_exporter": "python",
   "pygments_lexer": "ipython3",
   "version": "3.10.7"
  },
  "orig_nbformat": 4,
  "vscode": {
   "interpreter": {
    "hash": "98d2cfb90ae471b8478f5edab6700fae2d954e7b5017dd8b49e39e4af92166be"
   }
  }
 },
 "nbformat": 4,
 "nbformat_minor": 2
}
